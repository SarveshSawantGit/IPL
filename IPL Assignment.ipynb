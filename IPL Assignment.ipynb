{
  "metadata": {
    "language_info": {
      "codemirror_mode": {
        "name": "python",
        "version": 3
      },
      "file_extension": ".py",
      "mimetype": "text/x-python",
      "name": "python",
      "nbconvert_exporter": "python",
      "pygments_lexer": "ipython3",
      "version": "3.8"
    },
    "kernelspec": {
      "name": "python",
      "display_name": "Pyolite",
      "language": "python"
    }
  },
  "nbformat_minor": 4,
  "nbformat": 4,
  "cells": [
    {
      "cell_type": "code",
      "source": "import numpy as np\nimport pandas as pd",
      "metadata": {
        "trusted": true
      },
      "execution_count": 1,
      "outputs": [
        {
          "name": "stderr",
          "text": "/lib/python3.9/site-packages/pandas/compat/__init__.py:124: UserWarning: Could not import the lzma module. Your installed Python is incomplete. Attempting to use lzma compression will result in a RuntimeError.\n  warnings.warn(msg)\n",
          "output_type": "stream"
        }
      ]
    },
    {
      "cell_type": "code",
      "source": "ipl18 = pd.DataFrame({'Team': ['SRH', 'CSK', 'KKR', 'RR', 'MI', 'RCB', 'KXIP', 'DD'],\n                         'Matches': [14, 14, 14, 14, 14, 14, 14, 14],\n                         'Won': [9, 9, 8, 7, 6, 6, 6, 5],\n                         'Lost': [5, 5, 6, 7, 8, 8, 8, 9],\n                         'Tied': [0, 0, 0, 0, 0, 0, 0, 0],\n                         'N/R': [0, 0, 0, 0, 0, 0, 0, 0],\n                         'Points': [18, 18, 16, 14, 12, 12, 12, 10],\n                         'NRR': [0.284, 0.253, -0.070, -0.250, 0.317, 0.129, -0.502, -0.222],\n                         'For': [2230, 2488, 2363, 2130, 2380, 2322, 2210, 2297],\n                         'Against': [2193, 2433, 2425, 2141, 2282, 2383, 2259, 2304]},\n                         index = range(1,9)\n                    )\n\nipl18",
      "metadata": {
        "trusted": true
      },
      "execution_count": 2,
      "outputs": [
        {
          "execution_count": 2,
          "output_type": "execute_result",
          "data": {
            "text/plain": "   Team  Matches  Won  Lost  Tied  N/R  Points    NRR   For  Against\n1   SRH       14    9     5     0    0      18  0.284  2230     2193\n2   CSK       14    9     5     0    0      18  0.253  2488     2433\n3   KKR       14    8     6     0    0      16 -0.070  2363     2425\n4    RR       14    7     7     0    0      14 -0.250  2130     2141\n5    MI       14    6     8     0    0      12  0.317  2380     2282\n6   RCB       14    6     8     0    0      12  0.129  2322     2383\n7  KXIP       14    6     8     0    0      12 -0.502  2210     2259\n8    DD       14    5     9     0    0      10 -0.222  2297     2304",
            "text/html": "<div>\n<style scoped>\n    .dataframe tbody tr th:only-of-type {\n        vertical-align: middle;\n    }\n\n    .dataframe tbody tr th {\n        vertical-align: top;\n    }\n\n    .dataframe thead th {\n        text-align: right;\n    }\n</style>\n<table border=\"1\" class=\"dataframe\">\n  <thead>\n    <tr style=\"text-align: right;\">\n      <th></th>\n      <th>Team</th>\n      <th>Matches</th>\n      <th>Won</th>\n      <th>Lost</th>\n      <th>Tied</th>\n      <th>N/R</th>\n      <th>Points</th>\n      <th>NRR</th>\n      <th>For</th>\n      <th>Against</th>\n    </tr>\n  </thead>\n  <tbody>\n    <tr>\n      <th>1</th>\n      <td>SRH</td>\n      <td>14</td>\n      <td>9</td>\n      <td>5</td>\n      <td>0</td>\n      <td>0</td>\n      <td>18</td>\n      <td>0.284</td>\n      <td>2230</td>\n      <td>2193</td>\n    </tr>\n    <tr>\n      <th>2</th>\n      <td>CSK</td>\n      <td>14</td>\n      <td>9</td>\n      <td>5</td>\n      <td>0</td>\n      <td>0</td>\n      <td>18</td>\n      <td>0.253</td>\n      <td>2488</td>\n      <td>2433</td>\n    </tr>\n    <tr>\n      <th>3</th>\n      <td>KKR</td>\n      <td>14</td>\n      <td>8</td>\n      <td>6</td>\n      <td>0</td>\n      <td>0</td>\n      <td>16</td>\n      <td>-0.070</td>\n      <td>2363</td>\n      <td>2425</td>\n    </tr>\n    <tr>\n      <th>4</th>\n      <td>RR</td>\n      <td>14</td>\n      <td>7</td>\n      <td>7</td>\n      <td>0</td>\n      <td>0</td>\n      <td>14</td>\n      <td>-0.250</td>\n      <td>2130</td>\n      <td>2141</td>\n    </tr>\n    <tr>\n      <th>5</th>\n      <td>MI</td>\n      <td>14</td>\n      <td>6</td>\n      <td>8</td>\n      <td>0</td>\n      <td>0</td>\n      <td>12</td>\n      <td>0.317</td>\n      <td>2380</td>\n      <td>2282</td>\n    </tr>\n    <tr>\n      <th>6</th>\n      <td>RCB</td>\n      <td>14</td>\n      <td>6</td>\n      <td>8</td>\n      <td>0</td>\n      <td>0</td>\n      <td>12</td>\n      <td>0.129</td>\n      <td>2322</td>\n      <td>2383</td>\n    </tr>\n    <tr>\n      <th>7</th>\n      <td>KXIP</td>\n      <td>14</td>\n      <td>6</td>\n      <td>8</td>\n      <td>0</td>\n      <td>0</td>\n      <td>12</td>\n      <td>-0.502</td>\n      <td>2210</td>\n      <td>2259</td>\n    </tr>\n    <tr>\n      <th>8</th>\n      <td>DD</td>\n      <td>14</td>\n      <td>5</td>\n      <td>9</td>\n      <td>0</td>\n      <td>0</td>\n      <td>10</td>\n      <td>-0.222</td>\n      <td>2297</td>\n      <td>2304</td>\n    </tr>\n  </tbody>\n</table>\n</div>"
          },
          "metadata": {}
        }
      ]
    },
    {
      "cell_type": "code",
      "source": "ipl17 = pd.DataFrame({'Team': ['MI', 'RPS', 'SRH', 'KKR', 'KXIP', 'DD', 'GL', 'RCB'],\n                         'Matches': [14, 14, 14, 14, 14, 14, 14, 14],\n                         'Won': [10, 9, 8, 8, 7, 6, 4, 3],\n                         'Lost': [4, 5, 5, 6, 7, 8, 10, 10],\n                         'Tied': [0, 0, 0, 0, 0, 0, 0, 0],\n                         'N/R': [0, 0, 1, 0, 0, 0, 0, 1],\n                         'Points': [20, 18, 17, 16, 14, 12, 8, 7],\n                         'NRR': [0.784, 0.176, 0.469, 0.641, 0.123, -0.512, -0.412, -1.299],\n                         'For': [2407, 2180, 2221, 2329, 2207, 2219, 2406, 1845],\n                         'Against': [2242, 2165, 2118, 2300, 2229, 2255, 2472, 2033]},\n                         index = range(1,9)\n                    )\n\nipl17",
      "metadata": {
        "trusted": true
      },
      "execution_count": 3,
      "outputs": [
        {
          "execution_count": 3,
          "output_type": "execute_result",
          "data": {
            "text/plain": "   Team  Matches  Won  Lost  Tied  N/R  Points    NRR   For  Against\n1    MI       14   10     4     0    0      20  0.784  2407     2242\n2   RPS       14    9     5     0    0      18  0.176  2180     2165\n3   SRH       14    8     5     0    1      17  0.469  2221     2118\n4   KKR       14    8     6     0    0      16  0.641  2329     2300\n5  KXIP       14    7     7     0    0      14  0.123  2207     2229\n6    DD       14    6     8     0    0      12 -0.512  2219     2255\n7    GL       14    4    10     0    0       8 -0.412  2406     2472\n8   RCB       14    3    10     0    1       7 -1.299  1845     2033",
            "text/html": "<div>\n<style scoped>\n    .dataframe tbody tr th:only-of-type {\n        vertical-align: middle;\n    }\n\n    .dataframe tbody tr th {\n        vertical-align: top;\n    }\n\n    .dataframe thead th {\n        text-align: right;\n    }\n</style>\n<table border=\"1\" class=\"dataframe\">\n  <thead>\n    <tr style=\"text-align: right;\">\n      <th></th>\n      <th>Team</th>\n      <th>Matches</th>\n      <th>Won</th>\n      <th>Lost</th>\n      <th>Tied</th>\n      <th>N/R</th>\n      <th>Points</th>\n      <th>NRR</th>\n      <th>For</th>\n      <th>Against</th>\n    </tr>\n  </thead>\n  <tbody>\n    <tr>\n      <th>1</th>\n      <td>MI</td>\n      <td>14</td>\n      <td>10</td>\n      <td>4</td>\n      <td>0</td>\n      <td>0</td>\n      <td>20</td>\n      <td>0.784</td>\n      <td>2407</td>\n      <td>2242</td>\n    </tr>\n    <tr>\n      <th>2</th>\n      <td>RPS</td>\n      <td>14</td>\n      <td>9</td>\n      <td>5</td>\n      <td>0</td>\n      <td>0</td>\n      <td>18</td>\n      <td>0.176</td>\n      <td>2180</td>\n      <td>2165</td>\n    </tr>\n    <tr>\n      <th>3</th>\n      <td>SRH</td>\n      <td>14</td>\n      <td>8</td>\n      <td>5</td>\n      <td>0</td>\n      <td>1</td>\n      <td>17</td>\n      <td>0.469</td>\n      <td>2221</td>\n      <td>2118</td>\n    </tr>\n    <tr>\n      <th>4</th>\n      <td>KKR</td>\n      <td>14</td>\n      <td>8</td>\n      <td>6</td>\n      <td>0</td>\n      <td>0</td>\n      <td>16</td>\n      <td>0.641</td>\n      <td>2329</td>\n      <td>2300</td>\n    </tr>\n    <tr>\n      <th>5</th>\n      <td>KXIP</td>\n      <td>14</td>\n      <td>7</td>\n      <td>7</td>\n      <td>0</td>\n      <td>0</td>\n      <td>14</td>\n      <td>0.123</td>\n      <td>2207</td>\n      <td>2229</td>\n    </tr>\n    <tr>\n      <th>6</th>\n      <td>DD</td>\n      <td>14</td>\n      <td>6</td>\n      <td>8</td>\n      <td>0</td>\n      <td>0</td>\n      <td>12</td>\n      <td>-0.512</td>\n      <td>2219</td>\n      <td>2255</td>\n    </tr>\n    <tr>\n      <th>7</th>\n      <td>GL</td>\n      <td>14</td>\n      <td>4</td>\n      <td>10</td>\n      <td>0</td>\n      <td>0</td>\n      <td>8</td>\n      <td>-0.412</td>\n      <td>2406</td>\n      <td>2472</td>\n    </tr>\n    <tr>\n      <th>8</th>\n      <td>RCB</td>\n      <td>14</td>\n      <td>3</td>\n      <td>10</td>\n      <td>0</td>\n      <td>1</td>\n      <td>7</td>\n      <td>-1.299</td>\n      <td>1845</td>\n      <td>2033</td>\n    </tr>\n  </tbody>\n</table>\n</div>"
          },
          "metadata": {}
        }
      ]
    },
    {
      "cell_type": "code",
      "source": "# Q1. Question-1: Suppose in ‘ipl18’, you want to filter out the teams that have an NRR greater than zero, and for which the ‘For’ score exceeds the ‘Against’ score, i.e. both the conditions should be satisfied. Which teams will be left after you perform the above filtration?\n\n# a) CSK, MI b) SRH,CSK, MI c) SRH,CSK, RCB d) SRK,CSK, MI,RCB\n\nipl18[(ipl18[\"NRR\"]>0)&(ipl18[\"For\"]>ipl18[\"Against\"])]\n# ANS b)SRH, CSK, MI",
      "metadata": {
        "trusted": true
      },
      "execution_count": 6,
      "outputs": [
        {
          "execution_count": 6,
          "output_type": "execute_result",
          "data": {
            "text/plain": "  Team  Matches  Won  Lost  Tied  N/R  Points    NRR   For  Against\n1  SRH       14    9     5     0    0      18  0.284  2230     2193\n2  CSK       14    9     5     0    0      18  0.253  2488     2433\n5   MI       14    6     8     0    0      12  0.317  2380     2282",
            "text/html": "<div>\n<style scoped>\n    .dataframe tbody tr th:only-of-type {\n        vertical-align: middle;\n    }\n\n    .dataframe tbody tr th {\n        vertical-align: top;\n    }\n\n    .dataframe thead th {\n        text-align: right;\n    }\n</style>\n<table border=\"1\" class=\"dataframe\">\n  <thead>\n    <tr style=\"text-align: right;\">\n      <th></th>\n      <th>Team</th>\n      <th>Matches</th>\n      <th>Won</th>\n      <th>Lost</th>\n      <th>Tied</th>\n      <th>N/R</th>\n      <th>Points</th>\n      <th>NRR</th>\n      <th>For</th>\n      <th>Against</th>\n    </tr>\n  </thead>\n  <tbody>\n    <tr>\n      <th>1</th>\n      <td>SRH</td>\n      <td>14</td>\n      <td>9</td>\n      <td>5</td>\n      <td>0</td>\n      <td>0</td>\n      <td>18</td>\n      <td>0.284</td>\n      <td>2230</td>\n      <td>2193</td>\n    </tr>\n    <tr>\n      <th>2</th>\n      <td>CSK</td>\n      <td>14</td>\n      <td>9</td>\n      <td>5</td>\n      <td>0</td>\n      <td>0</td>\n      <td>18</td>\n      <td>0.253</td>\n      <td>2488</td>\n      <td>2433</td>\n    </tr>\n    <tr>\n      <th>5</th>\n      <td>MI</td>\n      <td>14</td>\n      <td>6</td>\n      <td>8</td>\n      <td>0</td>\n      <td>0</td>\n      <td>12</td>\n      <td>0.317</td>\n      <td>2380</td>\n      <td>2282</td>\n    </tr>\n  </tbody>\n</table>\n</div>"
          },
          "metadata": {}
        }
      ]
    },
    {
      "cell_type": "code",
      "source": "# Q2. If all the stats are taken for both ‘ipl17’ and ‘ipl18’, which team with its total points greater than 25 will have the highest win percentage\na=ipl17.append(ipl18)\nb=a[[\"Team\",\"Won\",\"Lost\"]].groupby([\"Team\"]).sum()\nb.sort_values(by=[\"Won\"], inplace=True, ascending=False)\n(b[\"Won\"]/(b[\"Won\"]+b[\"Lost\"]))*100\nc=b[b[\"Won\"]+b[\"Lost\"]>25]\nd=(c[\"Won\"]/(c[\"Won\"]+c[\"Lost\"]))*100\nd",
      "metadata": {
        "trusted": true
      },
      "execution_count": 5,
      "outputs": [
        {
          "execution_count": 5,
          "output_type": "execute_result",
          "data": {
            "text/plain": "Team\nSRH     62.962963\nKKR     57.142857\nMI      57.142857\nKXIP    46.428571\nDD      39.285714\nRCB     33.333333\ndtype: float64"
          },
          "metadata": {}
        }
      ]
    },
    {
      "cell_type": "code",
      "source": "",
      "metadata": {},
      "execution_count": null,
      "outputs": []
    }
  ]
}